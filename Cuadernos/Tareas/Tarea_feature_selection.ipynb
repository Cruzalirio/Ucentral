{
  "nbformat": 4,
  "nbformat_minor": 0,
  "metadata": {
    "colab": {
      "provenance": []
    },
    "kernelspec": {
      "name": "python3",
      "display_name": "Python 3"
    },
    "language_info": {
      "name": "python"
    }
  },
  "cells": [
    {
      "cell_type": "markdown",
      "source": [
        "# **Universidad Central**\n",
        "\n",
        "![UC](https://www.ucentral.edu.co/themes/ucentral/img/template/Universidad%20Central.png)\n",
        "\n",
        "## **Maestría en Analítica de Datos**\n",
        "## *Fundamentos De Estadística Para La Analítica de Datos*\n",
        "## **Profesor**: Nelson Alirio Cruz Gutierrez Ph.D.\n",
        "## **Estudiantes**: \n",
        "\n",
        "## -- Cristian Camilo Guevara Serrano\n",
        "## -- Jennifer Alexandra Rodríguez Crespo \n",
        "## -- Stiven Leonardo Silva Castillo\n",
        "\n",
        "## **Tarea con los datos de casas**"
      ],
      "metadata": {
        "id": "FUg6N8P6hVFn"
      }
    },
    {
      "cell_type": "markdown",
      "source": [
        "\n",
        "1. Ya tenemos los datos dividios en train y test, además de tener imputados los faltantes.\n",
        "\n",
        "2. El conjunto de datos de entrenamiento lo vamos a dividir en \n",
        "- El 80% para entrenamiento\n",
        "- El 20% para validación\n",
        "\n",
        "3. En el conjunto de datos de entrenamiento, entrenar 5 modelos cada uno con 5,10,15,20,25 variables.\n",
        "\n",
        "4. Cada modelo probarlo en el conjunto de validación, con el $R^2$ y seleccionan el más alto. (por ejemplo el de 25 variables)\n",
        "\n",
        "5. Ese modelo es el que van a usar para el conjunto de datos de prueba. "
      ],
      "metadata": {
        "id": "qDT7iKq3hSSS"
      }
    },
    {
      "cell_type": "code",
      "source": [
        "import pandas as pd\n",
        "import numpy as np\n",
        "import plotly.express as px\n",
        "from scipy import stats # libreria estadistica de Scipy\n",
        "from sklearn.feature_selection import RFE # RFE es para seleccionar modelos\n",
        "from sklearn.model_selection import train_test_split # para dividir la base en train y test \n",
        "from sklearn import linear_model # para modelo lineal\n",
        "from sklearn.metrics import mean_squared_error, r2_score # para sacar las metricas \n",
        "import statsmodels.api as sm  ## Parte estadistica\n",
        "from statsmodels.sandbox.regression.predstd import wls_prediction_std  ## Parte estadistica\n",
        "from sklearn.impute import KNNImputer\n",
        "from sklearn.metrics import mean_absolute_percentage_error\n",
        "from sklearn.metrics import r2_score\n",
        "import matplotlib.pyplot as plt"
      ],
      "metadata": {
        "id": "eS51DjaJhmlH"
      },
      "execution_count": null,
      "outputs": []
    },
    {
      "cell_type": "markdown",
      "source": [
        "# Punto 1 y 2"
      ],
      "metadata": {
        "id": "K8JBQnkchbio"
      }
    },
    {
      "cell_type": "code",
      "execution_count": null,
      "metadata": {
        "id": "S5nGc-89hO83"
      },
      "outputs": [],
      "source": [
        "url =\"https://raw.githubusercontent.com/Cruzalirio/Ucentral/master/Bases/Casas/train.csv\"\n",
        "train = pd.read_csv(url, index_col=0)\n",
        "url =\"https://raw.githubusercontent.com/Cruzalirio/Ucentral/master/Bases/Casas/test.csv\"\n",
        "test = pd.read_csv(url)"
      ]
    },
    {
      "cell_type": "code",
      "source": [
        "X = train[[\"MSZoning\", \"LotFrontage\", \"LotArea\", \"Street\", \"YearBuilt\", \"MasVnrArea\"]]\n",
        "### Las dummies se deben hacer antes de entrenamiento y prueba\n",
        "X = pd.get_dummies(X, drop_first=True)\n",
        "Y = train[\"SalePrice\"]"
      ],
      "metadata": {
        "id": "KWXAKhAnhjvB"
      },
      "execution_count": null,
      "outputs": []
    },
    {
      "cell_type": "code",
      "source": [
        "X_train, X_test, Y_train, Y_test= train_test_split(X, Y, train_size=0.8, random_state=20) ## Muestreo aleatorio simple\n",
        "X_test.shape"
      ],
      "metadata": {
        "colab": {
          "base_uri": "https://localhost:8080/"
        },
        "id": "krb6yz4nhwa-",
        "outputId": "fb02f8aa-0265-4a58-8273-84317d02e727"
      },
      "execution_count": null,
      "outputs": [
        {
          "output_type": "execute_result",
          "data": {
            "text/plain": [
              "(292, 9)"
            ]
          },
          "metadata": {},
          "execution_count": 5
        }
      ]
    },
    {
      "cell_type": "markdown",
      "source": [
        "## KNN = k-nearest_neigbors"
      ],
      "metadata": {
        "id": "W7J9CqHFc3th"
      }
    },
    {
      "cell_type": "code",
      "source": [
        "imputer = KNNImputer(n_neighbors=2)"
      ],
      "metadata": {
        "id": "1tX_iS-LcPz1"
      },
      "execution_count": null,
      "outputs": []
    },
    {
      "cell_type": "markdown",
      "source": [
        "Modelo con todas las variables\n"
      ],
      "metadata": {
        "id": "7c4V2vtWkEzT"
      }
    },
    {
      "cell_type": "code",
      "source": [
        "perdidos = train.isnull().sum().reset_index(name=\"Conteo\").sort_values(\"Conteo\", ascending=False)\n",
        "perdidos[\"Prop\"] =perdidos[\"Conteo\"]/train.shape[0]\n",
        "perdidos[perdidos[\"Prop\"]>0.2][\"index\"].to_list()"
      ],
      "metadata": {
        "colab": {
          "base_uri": "https://localhost:8080/"
        },
        "id": "jBXIy3NykEGq",
        "outputId": "1b02a7d4-19d4-4c4d-ee60-89b4599670d5"
      },
      "execution_count": null,
      "outputs": [
        {
          "output_type": "execute_result",
          "data": {
            "text/plain": [
              "['PoolQC', 'MiscFeature', 'Alley', 'Fence', 'FireplaceQu']"
            ]
          },
          "metadata": {},
          "execution_count": 31
        }
      ]
    },
    {
      "cell_type": "code",
      "source": [
        "X = train.drop([\"SalePrice\",'PoolQC', 'MiscFeature', 'Alley', 'Fence', 'FireplaceQu'], axis=1)\n",
        "### Las dummies se deben hacer antes de entrenamiento y prueba\n",
        "X = pd.get_dummies(X, drop_first=True)\n",
        "Y = train[\"SalePrice\"]"
      ],
      "metadata": {
        "id": "0BvsgTu5kHx6"
      },
      "execution_count": null,
      "outputs": []
    },
    {
      "cell_type": "code",
      "source": [
        "X_train, X_test, Y_train, Y_test= train_test_split(X, Y, train_size=0.8, random_state=20) ## Muestreo aleatorio simple\n",
        "X_test.shape"
      ],
      "metadata": {
        "colab": {
          "base_uri": "https://localhost:8080/"
        },
        "id": "J_UyB1VLkInW",
        "outputId": "019d8b0d-07c7-42dc-9ae0-b2a3063fb0e6"
      },
      "execution_count": null,
      "outputs": [
        {
          "output_type": "execute_result",
          "data": {
            "text/plain": [
              "(292, 232)"
            ]
          },
          "metadata": {},
          "execution_count": 33
        }
      ]
    },
    {
      "cell_type": "code",
      "source": [
        "X_train_imp = imputer.fit_transform(X_train)\n",
        "X_train_imp = pd.DataFrame(X_train_imp, columns=X_train.columns, index=X_train.index)"
      ],
      "metadata": {
        "id": "sGdbEcnWkQls"
      },
      "execution_count": null,
      "outputs": []
    },
    {
      "cell_type": "markdown",
      "source": [
        "# Punto 3 y 4\n",
        "\n",
        "3. En el conjunto de datos de entrenamiento, entrenar 5 modelos cada uno con 5,10,15,20,25 variables.\n",
        "\n",
        "4. Cada modelo probarlo en el conjunto de validación, con el $R^2$ y seleccionan el más alto. (por ejemplo el de 25 variables)"
      ],
      "metadata": {
        "id": "9aQ8URDFiOOL"
      }
    },
    {
      "cell_type": "code",
      "source": [
        "def features_selection(number):\n",
        "\n",
        "    #Selección de variables\n",
        "\n",
        "    regresion = linear_model.LinearRegression()\n",
        "    selector = RFE(regresion, n_features_to_select=number, step=1)\n",
        "    selector = selector.fit(X_train_imp, Y_train)\n",
        "\n",
        "    #Entrenamiento modelo base\n",
        "\n",
        "    regresion_fs = linear_model.LinearRegression().fit(X_train_imp[X_train_imp.columns[selector.support_]], Y_train)\n",
        "    Y_pred_train = regresion_fs.predict(X_train_imp[X_train_imp.columns[selector.support_]])\n",
        "\n",
        "    #Metricas\n",
        "    print(\"==\"*30)\n",
        "    print(\"Para\",number,\"variables las métricas son:\")\n",
        "    print(\"R2\",np.round(r2_score(Y_train, Y_pred_train),2)*100, \"%\")\n",
        "    print(\"MAPE\",np.round(mean_absolute_percentage_error(Y_train, Y_pred_train),2)*100, \"%\")\n",
        "\n",
        "    return np.round(r2_score(Y_train, Y_pred_train),2)*100, np.round(mean_absolute_percentage_error(Y_train, Y_pred_train),2)*100, list(X_train_imp.columns[selector.support_])\n",
        "\n",
        "    "
      ],
      "metadata": {
        "id": "qvcwWRC3h-_4"
      },
      "execution_count": null,
      "outputs": []
    },
    {
      "cell_type": "code",
      "source": [
        "variables_ls = []\n",
        "r2_ls = []\n",
        "mape_ls = []\n",
        "\n",
        "number_features = [5,10,15,20,25]\n",
        "\n",
        "for number in number_features:\n",
        "\n",
        "    r2, mape, variables = features_selection(number)\n",
        "    variables_ls.append(variables)\n",
        "    r2_ls.append(r2)\n",
        "    mape_ls.append(mape)\n",
        "\n",
        "\n",
        "df_metrics = pd.DataFrame()\n",
        "df_metrics['Cantidad'] = number_features\n",
        "df_metrics['Variables'] = variables_ls\n",
        "df_metrics['R2'] = r2_ls\n",
        "df_metrics['MAPE'] = mape_ls\n"
      ],
      "metadata": {
        "colab": {
          "base_uri": "https://localhost:8080/"
        },
        "id": "814Jow1vi6mD",
        "outputId": "ae79eb09-b4ae-42e6-a6dc-01c534e0dfb0"
      },
      "execution_count": null,
      "outputs": [
        {
          "output_type": "stream",
          "name": "stdout",
          "text": [
            "============================================================\n",
            "Para 5 variables las métricas son:\n",
            "R2 43.0 %\n",
            "MAPE 25.0 %\n",
            "============================================================\n",
            "Para 10 variables las métricas son:\n",
            "R2 55.00000000000001 %\n",
            "MAPE 23.0 %\n",
            "============================================================\n",
            "Para 15 variables las métricas son:\n",
            "R2 64.0 %\n",
            "MAPE 21.0 %\n",
            "============================================================\n",
            "Para 20 variables las métricas son:\n",
            "R2 69.0 %\n",
            "MAPE 20.0 %\n",
            "============================================================\n",
            "Para 25 variables las métricas son:\n",
            "R2 71.0 %\n",
            "MAPE 19.0 %\n"
          ]
        }
      ]
    },
    {
      "cell_type": "code",
      "source": [
        "df_metrics.sort_values(by = 'R2',ascending = False)"
      ],
      "metadata": {
        "colab": {
          "base_uri": "https://localhost:8080/",
          "height": 206
        },
        "id": "ABKiQ4yRkXJ3",
        "outputId": "16aa5c1a-a4ed-42ad-f127-d5f0173b2c0e"
      },
      "execution_count": null,
      "outputs": [
        {
          "output_type": "execute_result",
          "data": {
            "text/plain": [
              "   Cantidad                                          Variables    R2  MAPE\n",
              "4        25  [Neighborhood_Crawfor, Neighborhood_NoRidge, N...  71.0  19.0\n",
              "3        20  [Neighborhood_Crawfor, Neighborhood_NoRidge, N...  69.0  20.0\n",
              "2        15  [Neighborhood_NoRidge, Neighborhood_StoneBr, C...  64.0  21.0\n",
              "1        10  [Neighborhood_NoRidge, RoofMatl_CompShg, RoofM...  55.0  23.0\n",
              "0         5  [RoofMatl_Membran, RoofMatl_Tar&Grv, RoofMatl_...  43.0  25.0"
            ],
            "text/html": [
              "\n",
              "  <div id=\"df-57f4a452-264b-4930-b877-48e2c82b87a5\">\n",
              "    <div class=\"colab-df-container\">\n",
              "      <div>\n",
              "<style scoped>\n",
              "    .dataframe tbody tr th:only-of-type {\n",
              "        vertical-align: middle;\n",
              "    }\n",
              "\n",
              "    .dataframe tbody tr th {\n",
              "        vertical-align: top;\n",
              "    }\n",
              "\n",
              "    .dataframe thead th {\n",
              "        text-align: right;\n",
              "    }\n",
              "</style>\n",
              "<table border=\"1\" class=\"dataframe\">\n",
              "  <thead>\n",
              "    <tr style=\"text-align: right;\">\n",
              "      <th></th>\n",
              "      <th>Cantidad</th>\n",
              "      <th>Variables</th>\n",
              "      <th>R2</th>\n",
              "      <th>MAPE</th>\n",
              "    </tr>\n",
              "  </thead>\n",
              "  <tbody>\n",
              "    <tr>\n",
              "      <th>4</th>\n",
              "      <td>25</td>\n",
              "      <td>[Neighborhood_Crawfor, Neighborhood_NoRidge, N...</td>\n",
              "      <td>71.0</td>\n",
              "      <td>19.0</td>\n",
              "    </tr>\n",
              "    <tr>\n",
              "      <th>3</th>\n",
              "      <td>20</td>\n",
              "      <td>[Neighborhood_Crawfor, Neighborhood_NoRidge, N...</td>\n",
              "      <td>69.0</td>\n",
              "      <td>20.0</td>\n",
              "    </tr>\n",
              "    <tr>\n",
              "      <th>2</th>\n",
              "      <td>15</td>\n",
              "      <td>[Neighborhood_NoRidge, Neighborhood_StoneBr, C...</td>\n",
              "      <td>64.0</td>\n",
              "      <td>21.0</td>\n",
              "    </tr>\n",
              "    <tr>\n",
              "      <th>1</th>\n",
              "      <td>10</td>\n",
              "      <td>[Neighborhood_NoRidge, RoofMatl_CompShg, RoofM...</td>\n",
              "      <td>55.0</td>\n",
              "      <td>23.0</td>\n",
              "    </tr>\n",
              "    <tr>\n",
              "      <th>0</th>\n",
              "      <td>5</td>\n",
              "      <td>[RoofMatl_Membran, RoofMatl_Tar&amp;Grv, RoofMatl_...</td>\n",
              "      <td>43.0</td>\n",
              "      <td>25.0</td>\n",
              "    </tr>\n",
              "  </tbody>\n",
              "</table>\n",
              "</div>\n",
              "      <button class=\"colab-df-convert\" onclick=\"convertToInteractive('df-57f4a452-264b-4930-b877-48e2c82b87a5')\"\n",
              "              title=\"Convert this dataframe to an interactive table.\"\n",
              "              style=\"display:none;\">\n",
              "        \n",
              "  <svg xmlns=\"http://www.w3.org/2000/svg\" height=\"24px\"viewBox=\"0 0 24 24\"\n",
              "       width=\"24px\">\n",
              "    <path d=\"M0 0h24v24H0V0z\" fill=\"none\"/>\n",
              "    <path d=\"M18.56 5.44l.94 2.06.94-2.06 2.06-.94-2.06-.94-.94-2.06-.94 2.06-2.06.94zm-11 1L8.5 8.5l.94-2.06 2.06-.94-2.06-.94L8.5 2.5l-.94 2.06-2.06.94zm10 10l.94 2.06.94-2.06 2.06-.94-2.06-.94-.94-2.06-.94 2.06-2.06.94z\"/><path d=\"M17.41 7.96l-1.37-1.37c-.4-.4-.92-.59-1.43-.59-.52 0-1.04.2-1.43.59L10.3 9.45l-7.72 7.72c-.78.78-.78 2.05 0 2.83L4 21.41c.39.39.9.59 1.41.59.51 0 1.02-.2 1.41-.59l7.78-7.78 2.81-2.81c.8-.78.8-2.07 0-2.86zM5.41 20L4 18.59l7.72-7.72 1.47 1.35L5.41 20z\"/>\n",
              "  </svg>\n",
              "      </button>\n",
              "      \n",
              "  <style>\n",
              "    .colab-df-container {\n",
              "      display:flex;\n",
              "      flex-wrap:wrap;\n",
              "      gap: 12px;\n",
              "    }\n",
              "\n",
              "    .colab-df-convert {\n",
              "      background-color: #E8F0FE;\n",
              "      border: none;\n",
              "      border-radius: 50%;\n",
              "      cursor: pointer;\n",
              "      display: none;\n",
              "      fill: #1967D2;\n",
              "      height: 32px;\n",
              "      padding: 0 0 0 0;\n",
              "      width: 32px;\n",
              "    }\n",
              "\n",
              "    .colab-df-convert:hover {\n",
              "      background-color: #E2EBFA;\n",
              "      box-shadow: 0px 1px 2px rgba(60, 64, 67, 0.3), 0px 1px 3px 1px rgba(60, 64, 67, 0.15);\n",
              "      fill: #174EA6;\n",
              "    }\n",
              "\n",
              "    [theme=dark] .colab-df-convert {\n",
              "      background-color: #3B4455;\n",
              "      fill: #D2E3FC;\n",
              "    }\n",
              "\n",
              "    [theme=dark] .colab-df-convert:hover {\n",
              "      background-color: #434B5C;\n",
              "      box-shadow: 0px 1px 3px 1px rgba(0, 0, 0, 0.15);\n",
              "      filter: drop-shadow(0px 1px 2px rgba(0, 0, 0, 0.3));\n",
              "      fill: #FFFFFF;\n",
              "    }\n",
              "  </style>\n",
              "\n",
              "      <script>\n",
              "        const buttonEl =\n",
              "          document.querySelector('#df-57f4a452-264b-4930-b877-48e2c82b87a5 button.colab-df-convert');\n",
              "        buttonEl.style.display =\n",
              "          google.colab.kernel.accessAllowed ? 'block' : 'none';\n",
              "\n",
              "        async function convertToInteractive(key) {\n",
              "          const element = document.querySelector('#df-57f4a452-264b-4930-b877-48e2c82b87a5');\n",
              "          const dataTable =\n",
              "            await google.colab.kernel.invokeFunction('convertToInteractive',\n",
              "                                                     [key], {});\n",
              "          if (!dataTable) return;\n",
              "\n",
              "          const docLinkHtml = 'Like what you see? Visit the ' +\n",
              "            '<a target=\"_blank\" href=https://colab.research.google.com/notebooks/data_table.ipynb>data table notebook</a>'\n",
              "            + ' to learn more about interactive tables.';\n",
              "          element.innerHTML = '';\n",
              "          dataTable['output_type'] = 'display_data';\n",
              "          await google.colab.output.renderOutput(dataTable, element);\n",
              "          const docLink = document.createElement('div');\n",
              "          docLink.innerHTML = docLinkHtml;\n",
              "          element.appendChild(docLink);\n",
              "        }\n",
              "      </script>\n",
              "    </div>\n",
              "  </div>\n",
              "  "
            ]
          },
          "metadata": {},
          "execution_count": 57
        }
      ]
    },
    {
      "cell_type": "markdown",
      "source": [
        "Se evidencia que el modelo con mejor desempeño es el de 25 variables, por lo cual se procede a utilizar esta cantidad de variables en el modelo."
      ],
      "metadata": {
        "id": "mILa3Yx7oETl"
      }
    },
    {
      "cell_type": "code",
      "source": [
        "df_metrics.plot(x = 'Cantidad', y = ['R2','MAPE'],title = 'Evolución métricas vs cantidad de variables', grid = True)\n",
        "plt.xlabel('Cantidad de variables')\n",
        "plt.ylabel('R2 - MAPE')\n",
        "plt.show()"
      ],
      "metadata": {
        "colab": {
          "base_uri": "https://localhost:8080/",
          "height": 472
        },
        "id": "Zys5fE3NoOjT",
        "outputId": "2e5561f1-5c0c-4c86-d1c1-f2c191007652"
      },
      "execution_count": null,
      "outputs": [
        {
          "output_type": "display_data",
          "data": {
            "text/plain": [
              "<Figure size 640x480 with 1 Axes>"
            ],
            "image/png": "[encoded data removed]"
          },
          "metadata": {}
        }
      ]
    },
    {
      "cell_type": "markdown",
      "source": [
        "# Punto 5\n",
        "\n",
        "Ese modelo es el que van a usar para el conjunto de datos de prueba. "
      ],
      "metadata": {
        "id": "e4TgcuMGn8h6"
      }
    },
    {
      "cell_type": "markdown",
      "source": [
        "Inicialmente se ajustan los datos del test para hacer la prueba correspondiente"
      ],
      "metadata": {
        "id": "N4yL4jxLpl4w"
      }
    },
    {
      "cell_type": "code",
      "source": [
        "imputer = KNNImputer(n_neighbors=2)\n",
        "X_test_imp = imputer.fit_transform(X_test)\n",
        "X_test_imp = pd.DataFrame(X_test_imp, columns=X_test.columns, index=X_test.index)"
      ],
      "metadata": {
        "id": "g9GGq4IPpleh"
      },
      "execution_count": null,
      "outputs": []
    },
    {
      "cell_type": "markdown",
      "source": [
        "Se estiman las 25 variables del mejor modelo"
      ],
      "metadata": {
        "id": "yFtFhn1Epoiv"
      }
    },
    {
      "cell_type": "code",
      "source": [
        "#Se estiman las 25 variables\n",
        "regresion = linear_model.LinearRegression()\n",
        "selector_25 = RFE(regresion, n_features_to_select=25, step=1)\n",
        "selector_25 = selector_25.fit(X_train_imp, Y_train)\n",
        "X_train_imp.columns[selector_25.support_]"
      ],
      "metadata": {
        "colab": {
          "base_uri": "https://localhost:8080/"
        },
        "id": "3VECY6cQnjsv",
        "outputId": "02b246c5-4bd7-40b3-dc5e-de63de295236"
      },
      "execution_count": null,
      "outputs": [
        {
          "output_type": "execute_result",
          "data": {
            "text/plain": [
              "Index(['Neighborhood_Crawfor', 'Neighborhood_NoRidge', 'Neighborhood_NridgHt',\n",
              "       'Neighborhood_StoneBr', 'Condition2_PosN', 'RoofMatl_CompShg',\n",
              "       'RoofMatl_Membran', 'RoofMatl_Roll', 'RoofMatl_Tar&Grv',\n",
              "       'RoofMatl_WdShake', 'RoofMatl_WdShngl', 'Exterior1st_ImStucc',\n",
              "       'ExterQual_Fa', 'ExterQual_Gd', 'ExterQual_TA', 'BsmtExposure_Gd',\n",
              "       'HeatingQC_Po', 'KitchenQual_Fa', 'KitchenQual_Gd', 'KitchenQual_TA',\n",
              "       'GarageQual_Fa', 'GarageCond_Fa', 'GarageCond_Gd', 'GarageCond_Po',\n",
              "       'GarageCond_TA'],\n",
              "      dtype='object')"
            ]
          },
          "metadata": {},
          "execution_count": 65
        }
      ]
    },
    {
      "cell_type": "markdown",
      "source": [
        "Se entrena el mejor modelo"
      ],
      "metadata": {
        "id": "CV5F3JWRprFH"
      }
    },
    {
      "cell_type": "code",
      "source": [
        "best_model = linear_model.LinearRegression()\n",
        "best_model.fit(X_train[X_train_imp.columns[selector_25.support_]],Y_train)"
      ],
      "metadata": {
        "id": "Mr9Q8WSDpKo_"
      },
      "execution_count": null,
      "outputs": []
    },
    {
      "cell_type": "markdown",
      "source": [
        "R2"
      ],
      "metadata": {
        "id": "-jINnhT8peIU"
      }
    },
    {
      "cell_type": "code",
      "source": [
        "Y_pred_train = best_model.predict(X_train_imp[X_train_imp.columns[selector_25.support_]]) ### Entrenamiento\n",
        "Y_pred_test = best_model.predict(X_test_imp[X_train_imp.columns[selector_25.support_]]) ## Prueba\n",
        "\n",
        "print(\"R2 train\",np.round(r2_score(Y_train, Y_pred_train),2)*100, \"%\")\n",
        "print(\"R2 prueba\",np.round(r2_score(Y_test, Y_pred_test),2)*100, \"%\")"
      ],
      "metadata": {
        "colab": {
          "base_uri": "https://localhost:8080/"
        },
        "id": "QOm7JDUUpS6_",
        "outputId": "5b96294d-7d38-4298-f25a-51db103a633b"
      },
      "execution_count": null,
      "outputs": [
        {
          "output_type": "stream",
          "name": "stdout",
          "text": [
            "R2 train 71.0 %\n",
            "R2 prueba 61.0 %\n"
          ]
        }
      ]
    },
    {
      "cell_type": "markdown",
      "source": [
        "Mape"
      ],
      "metadata": {
        "id": "kZdkT_sJp73Y"
      }
    },
    {
      "cell_type": "code",
      "source": [
        "Y_pred_train=best_model.predict(X_train_imp[X_train_imp.columns[selector_25.support_]]) ### Entrenamiento\n",
        "Y_pred_test=best_model.predict(X_test_imp[X_train_imp.columns[selector_25.support_]]) ## Prueba\n",
        "print(\"MAPE train\",np.round(mean_absolute_percentage_error(Y_train, Y_pred_train),2)*100, \"%\")\n",
        "print(\"MAPE prueba\",np.round(mean_absolute_percentage_error(Y_test, Y_pred_test),2)*100, \"%\")"
      ],
      "metadata": {
        "colab": {
          "base_uri": "https://localhost:8080/"
        },
        "id": "dmgC5SYRpyHa",
        "outputId": "a8df34b1-7a1c-43f1-ce26-807c91d7a453"
      },
      "execution_count": null,
      "outputs": [
        {
          "output_type": "stream",
          "name": "stdout",
          "text": [
            "MAPE train 19.0 %\n",
            "MAPE prueba 21.0 %\n"
          ]
        }
      ]
    },
    {
      "cell_type": "code",
      "source": [],
      "metadata": {
        "id": "EaZg5tVMqCun"
      },
      "execution_count": null,
      "outputs": []
    }
  ]
}