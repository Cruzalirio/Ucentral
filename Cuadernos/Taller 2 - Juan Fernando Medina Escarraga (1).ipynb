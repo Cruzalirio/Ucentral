{
 "cells": [
  {
   "cell_type": "markdown",
   "metadata": {},
   "source": [
    "## Taller #2 del 2020-02-22\n",
    "\n",
    "**Juan Fernando Medina Escarraga**  \n",
    "**Maestria en Analitica de Datos**  \n",
    "**Universidad Central**  \n",
    "\n",
    "**1.** Realizar el ACP de Delitos, con los porcentajes.\n",
    "\n",
    "> **a)** Presentar los valores propios y analizarlos.  \n",
    "> **b)** Presentar la ecuacion de los 2 primeros componentes.  \n",
    "> **c)** Construir un indice con el primer componente y explicarlo.  \n",
    "> **d)** Presentar el grafico factorial 1 y 2 y explicarlo.\n",
    "\n",
    "---\n",
    "### Preparacion de datos ###"
   ]
  },
  {
   "cell_type": "code",
   "execution_count": 1,
   "metadata": {},
   "outputs": [
    {
     "data": {
      "text/html": [
       "<table>\n",
       "<caption>A data.frame: 5 × 7</caption>\n",
       "<thead>\n",
       "\t<tr><th></th><th scope=col>Departamento</th><th scope=col>Delitos_Sexuales</th><th scope=col>Homicidios</th><th scope=col>Transito</th><th scope=col>Asalto</th><th scope=col>Intrafamiliar</th><th scope=col>Poblacion</th></tr>\n",
       "\t<tr><th></th><th scope=col>&lt;fct&gt;</th><th scope=col>&lt;int&gt;</th><th scope=col>&lt;int&gt;</th><th scope=col>&lt;int&gt;</th><th scope=col>&lt;int&gt;</th><th scope=col>&lt;int&gt;</th><th scope=col>&lt;int&gt;</th></tr>\n",
       "</thead>\n",
       "<tbody>\n",
       "\t<tr><th scope=row>1</th><td>Antioquia  </td><td>2163</td><td> 375</td><td>5079</td><td>11897</td><td> 8205</td><td>6690977</td></tr>\n",
       "\t<tr><th scope=row>2</th><td>Atlantico  </td><td>1042</td><td>  85</td><td>1928</td><td>   59</td><td> 3659</td><td>2546138</td></tr>\n",
       "\t<tr><th scope=row>3</th><td>Bogota_D.C.</td><td>4211</td><td>1463</td><td> 725</td><td> 2725</td><td>19811</td><td>8181047</td></tr>\n",
       "\t<tr><th scope=row>4</th><td>Bolivar    </td><td> 944</td><td>  28</td><td> 922</td><td> 3812</td><td> 2085</td><td>2171558</td></tr>\n",
       "\t<tr><th scope=row>5</th><td>Boyaca     </td><td> 517</td><td>  95</td><td>1167</td><td> 4084</td><td> 2707</td><td>1281979</td></tr>\n",
       "</tbody>\n",
       "</table>\n"
      ],
      "text/latex": [
       "A data.frame: 5 × 7\n",
       "\\begin{tabular}{r|lllllll}\n",
       "  & Departamento & Delitos\\_Sexuales & Homicidios & Transito & Asalto & Intrafamiliar & Poblacion\\\\\n",
       "  & <fct> & <int> & <int> & <int> & <int> & <int> & <int>\\\\\n",
       "\\hline\n",
       "\t1 & Antioquia   & 2163 &  375 & 5079 & 11897 &  8205 & 6690977\\\\\n",
       "\t2 & Atlantico   & 1042 &   85 & 1928 &    59 &  3659 & 2546138\\\\\n",
       "\t3 & Bogota\\_D.C. & 4211 & 1463 &  725 &  2725 & 19811 & 8181047\\\\\n",
       "\t4 & Bolivar     &  944 &   28 &  922 &  3812 &  2085 & 2171558\\\\\n",
       "\t5 & Boyaca      &  517 &   95 & 1167 &  4084 &  2707 & 1281979\\\\\n",
       "\\end{tabular}\n"
      ],
      "text/markdown": [
       "\n",
       "A data.frame: 5 × 7\n",
       "\n",
       "| <!--/--> | Departamento &lt;fct&gt; | Delitos_Sexuales &lt;int&gt; | Homicidios &lt;int&gt; | Transito &lt;int&gt; | Asalto &lt;int&gt; | Intrafamiliar &lt;int&gt; | Poblacion &lt;int&gt; |\n",
       "|---|---|---|---|---|---|---|---|\n",
       "| 1 | Antioquia   | 2163 |  375 | 5079 | 11897 |  8205 | 6690977 |\n",
       "| 2 | Atlantico   | 1042 |   85 | 1928 |    59 |  3659 | 2546138 |\n",
       "| 3 | Bogota_D.C. | 4211 | 1463 |  725 |  2725 | 19811 | 8181047 |\n",
       "| 4 | Bolivar     |  944 |   28 |  922 |  3812 |  2085 | 2171558 |\n",
       "| 5 | Boyaca      |  517 |   95 | 1167 |  4084 |  2707 | 1281979 |\n",
       "\n"
      ],
      "text/plain": [
       "  Departamento Delitos_Sexuales Homicidios Transito Asalto Intrafamiliar\n",
       "1 Antioquia    2163              375       5079     11897   8205        \n",
       "2 Atlantico    1042               85       1928        59   3659        \n",
       "3 Bogota_D.C.  4211             1463        725      2725  19811        \n",
       "4 Bolivar       944               28        922      3812   2085        \n",
       "5 Boyaca        517               95       1167      4084   2707        \n",
       "  Poblacion\n",
       "1 6690977  \n",
       "2 2546138  \n",
       "3 8181047  \n",
       "4 2171558  \n",
       "5 1281979  "
      ]
     },
     "metadata": {},
     "output_type": "display_data"
    }
   ],
   "source": [
    "#Carga archivo origen de datos\n",
    "df <- read.csv2(file = 'Delitos_Colombia.csv', encoding = \"UTF-8\")\n",
    "\n",
    "#Muestra de los datos\n",
    "head(df, n = 5)"
   ]
  },
  {
   "cell_type": "code",
   "execution_count": 2,
   "metadata": {},
   "outputs": [
    {
     "data": {
      "text/html": [
       "<table>\n",
       "<caption>A data.frame: 5 × 6</caption>\n",
       "<thead>\n",
       "\t<tr><th></th><th scope=col>Delitos_Sexuales</th><th scope=col>Homicidios</th><th scope=col>Transito</th><th scope=col>Asalto</th><th scope=col>Intrafamiliar</th><th scope=col>Poblacion</th></tr>\n",
       "\t<tr><th></th><th scope=col>&lt;int&gt;</th><th scope=col>&lt;int&gt;</th><th scope=col>&lt;int&gt;</th><th scope=col>&lt;int&gt;</th><th scope=col>&lt;int&gt;</th><th scope=col>&lt;int&gt;</th></tr>\n",
       "</thead>\n",
       "<tbody>\n",
       "\t<tr><th scope=row>Antioquia</th><td>2163</td><td> 375</td><td>5079</td><td>11897</td><td> 8205</td><td>6690977</td></tr>\n",
       "\t<tr><th scope=row>Atlantico</th><td>1042</td><td>  85</td><td>1928</td><td>   59</td><td> 3659</td><td>2546138</td></tr>\n",
       "\t<tr><th scope=row>Bogota_D.C.</th><td>4211</td><td>1463</td><td> 725</td><td> 2725</td><td>19811</td><td>8181047</td></tr>\n",
       "\t<tr><th scope=row>Bolivar</th><td> 944</td><td>  28</td><td> 922</td><td> 3812</td><td> 2085</td><td>2171558</td></tr>\n",
       "\t<tr><th scope=row>Boyaca</th><td> 517</td><td>  95</td><td>1167</td><td> 4084</td><td> 2707</td><td>1281979</td></tr>\n",
       "</tbody>\n",
       "</table>\n"
      ],
      "text/latex": [
       "A data.frame: 5 × 6\n",
       "\\begin{tabular}{r|llllll}\n",
       "  & Delitos\\_Sexuales & Homicidios & Transito & Asalto & Intrafamiliar & Poblacion\\\\\n",
       "  & <int> & <int> & <int> & <int> & <int> & <int>\\\\\n",
       "\\hline\n",
       "\tAntioquia & 2163 &  375 & 5079 & 11897 &  8205 & 6690977\\\\\n",
       "\tAtlantico & 1042 &   85 & 1928 &    59 &  3659 & 2546138\\\\\n",
       "\tBogota\\_D.C. & 4211 & 1463 &  725 &  2725 & 19811 & 8181047\\\\\n",
       "\tBolivar &  944 &   28 &  922 &  3812 &  2085 & 2171558\\\\\n",
       "\tBoyaca &  517 &   95 & 1167 &  4084 &  2707 & 1281979\\\\\n",
       "\\end{tabular}\n"
      ],
      "text/markdown": [
       "\n",
       "A data.frame: 5 × 6\n",
       "\n",
       "| <!--/--> | Delitos_Sexuales &lt;int&gt; | Homicidios &lt;int&gt; | Transito &lt;int&gt; | Asalto &lt;int&gt; | Intrafamiliar &lt;int&gt; | Poblacion &lt;int&gt; |\n",
       "|---|---|---|---|---|---|---|\n",
       "| Antioquia | 2163 |  375 | 5079 | 11897 |  8205 | 6690977 |\n",
       "| Atlantico | 1042 |   85 | 1928 |    59 |  3659 | 2546138 |\n",
       "| Bogota_D.C. | 4211 | 1463 |  725 |  2725 | 19811 | 8181047 |\n",
       "| Bolivar |  944 |   28 |  922 |  3812 |  2085 | 2171558 |\n",
       "| Boyaca |  517 |   95 | 1167 |  4084 |  2707 | 1281979 |\n",
       "\n"
      ],
      "text/plain": [
       "            Delitos_Sexuales Homicidios Transito Asalto Intrafamiliar Poblacion\n",
       "Antioquia   2163              375       5079     11897   8205         6690977  \n",
       "Atlantico   1042               85       1928        59   3659         2546138  \n",
       "Bogota_D.C. 4211             1463        725      2725  19811         8181047  \n",
       "Bolivar      944               28        922      3812   2085         2171558  \n",
       "Boyaca       517               95       1167      4084   2707         1281979  "
      ]
     },
     "metadata": {},
     "output_type": "display_data"
    }
   ],
   "source": [
    "#convierte la primera columna en indice\n",
    "df <- data.frame(df[,-1], row.names = df[,1])\n",
    "\n",
    "#Muestra de los datos\n",
    "head(df, n = 5)"
   ]
  },
  {
   "cell_type": "code",
   "execution_count": 3,
   "metadata": {},
   "outputs": [
    {
     "data": {
      "image/png": "[encoded data removed]",
      "text/plain": [
       "plot without title"
      ]
     },
     "metadata": {
      "image/png": {
       "height": 420,
       "width": 420
      },
      "text/plain": {
       "height": 420,
       "width": 420
      }
     },
     "output_type": "display_data"
    }
   ],
   "source": [
    "#Representacion grafica de la matriz de correlacion\n",
    "library('ggplot2')\n",
    "library('ggcorrplot')\n",
    "corr.mat = cor(df)\n",
    "ggcorrplot(corr.mat[, ncol(df):1], lab = TRUE)"
   ]
  },
  {
   "cell_type": "code",
   "execution_count": 4,
   "metadata": {},
   "outputs": [
    {
     "data": {
      "text/html": [
       "<table>\n",
       "<caption>A data.frame: 5 × 12</caption>\n",
       "<thead>\n",
       "\t<tr><th></th><th scope=col>Delitos_Sexuales</th><th scope=col>Homicidios</th><th scope=col>Transito</th><th scope=col>Asalto</th><th scope=col>Intrafamiliar</th><th scope=col>Poblacion</th><th scope=col>TotalDelitosDepto</th><th scope=col>DelitosSexuales%</th><th scope=col>Homicidios%</th><th scope=col>Transito%</th><th scope=col>Asalto%</th><th scope=col>Intrafamiliar%</th></tr>\n",
       "\t<tr><th></th><th scope=col>&lt;int&gt;</th><th scope=col>&lt;int&gt;</th><th scope=col>&lt;int&gt;</th><th scope=col>&lt;int&gt;</th><th scope=col>&lt;int&gt;</th><th scope=col>&lt;int&gt;</th><th scope=col>&lt;dbl&gt;</th><th scope=col>&lt;dbl&gt;</th><th scope=col>&lt;dbl&gt;</th><th scope=col>&lt;dbl&gt;</th><th scope=col>&lt;dbl&gt;</th><th scope=col>&lt;dbl&gt;</th></tr>\n",
       "</thead>\n",
       "<tbody>\n",
       "\t<tr><th scope=row>Antioquia</th><td>2163</td><td> 375</td><td>5079</td><td>11897</td><td> 8205</td><td>6690977</td><td>27719</td><td>0.07803312</td><td>0.01352863</td><td>0.18323172</td><td>0.429200188</td><td>0.2960063</td></tr>\n",
       "\t<tr><th scope=row>Atlantico</th><td>1042</td><td>  85</td><td>1928</td><td>   59</td><td> 3659</td><td>2546138</td><td> 6773</td><td>0.15384615</td><td>0.01254983</td><td>0.28465968</td><td>0.008711059</td><td>0.5402333</td></tr>\n",
       "\t<tr><th scope=row>Bogota_D.C.</th><td>4211</td><td>1463</td><td> 725</td><td> 2725</td><td>19811</td><td>8181047</td><td>28935</td><td>0.14553309</td><td>0.05056160</td><td>0.02505616</td><td>0.094176603</td><td>0.6846725</td></tr>\n",
       "\t<tr><th scope=row>Bolivar</th><td> 944</td><td>  28</td><td> 922</td><td> 3812</td><td> 2085</td><td>2171558</td><td> 7791</td><td>0.12116545</td><td>0.00359389</td><td>0.11834168</td><td>0.489282505</td><td>0.2676165</td></tr>\n",
       "\t<tr><th scope=row>Boyaca</th><td> 517</td><td>  95</td><td>1167</td><td> 4084</td><td> 2707</td><td>1281979</td><td> 8570</td><td>0.06032672</td><td>0.01108518</td><td>0.13617270</td><td>0.476546091</td><td>0.3158693</td></tr>\n",
       "</tbody>\n",
       "</table>\n"
      ],
      "text/latex": [
       "A data.frame: 5 × 12\n",
       "\\begin{tabular}{r|llllllllllll}\n",
       "  & Delitos\\_Sexuales & Homicidios & Transito & Asalto & Intrafamiliar & Poblacion & TotalDelitosDepto & DelitosSexuales\\% & Homicidios\\% & Transito\\% & Asalto\\% & Intrafamiliar\\%\\\\\n",
       "  & <int> & <int> & <int> & <int> & <int> & <int> & <dbl> & <dbl> & <dbl> & <dbl> & <dbl> & <dbl>\\\\\n",
       "\\hline\n",
       "\tAntioquia & 2163 &  375 & 5079 & 11897 &  8205 & 6690977 & 27719 & 0.07803312 & 0.01352863 & 0.18323172 & 0.429200188 & 0.2960063\\\\\n",
       "\tAtlantico & 1042 &   85 & 1928 &    59 &  3659 & 2546138 &  6773 & 0.15384615 & 0.01254983 & 0.28465968 & 0.008711059 & 0.5402333\\\\\n",
       "\tBogota\\_D.C. & 4211 & 1463 &  725 &  2725 & 19811 & 8181047 & 28935 & 0.14553309 & 0.05056160 & 0.02505616 & 0.094176603 & 0.6846725\\\\\n",
       "\tBolivar &  944 &   28 &  922 &  3812 &  2085 & 2171558 &  7791 & 0.12116545 & 0.00359389 & 0.11834168 & 0.489282505 & 0.2676165\\\\\n",
       "\tBoyaca &  517 &   95 & 1167 &  4084 &  2707 & 1281979 &  8570 & 0.06032672 & 0.01108518 & 0.13617270 & 0.476546091 & 0.3158693\\\\\n",
       "\\end{tabular}\n"
      ],
      "text/markdown": [
       "\n",
       "A data.frame: 5 × 12\n",
       "\n",
       "| <!--/--> | Delitos_Sexuales &lt;int&gt; | Homicidios &lt;int&gt; | Transito &lt;int&gt; | Asalto &lt;int&gt; | Intrafamiliar &lt;int&gt; | Poblacion &lt;int&gt; | TotalDelitosDepto &lt;dbl&gt; | DelitosSexuales% &lt;dbl&gt; | Homicidios% &lt;dbl&gt; | Transito% &lt;dbl&gt; | Asalto% &lt;dbl&gt; | Intrafamiliar% &lt;dbl&gt; |\n",
       "|---|---|---|---|---|---|---|---|---|---|---|---|---|\n",
       "| Antioquia | 2163 |  375 | 5079 | 11897 |  8205 | 6690977 | 27719 | 0.07803312 | 0.01352863 | 0.18323172 | 0.429200188 | 0.2960063 |\n",
       "| Atlantico | 1042 |   85 | 1928 |    59 |  3659 | 2546138 |  6773 | 0.15384615 | 0.01254983 | 0.28465968 | 0.008711059 | 0.5402333 |\n",
       "| Bogota_D.C. | 4211 | 1463 |  725 |  2725 | 19811 | 8181047 | 28935 | 0.14553309 | 0.05056160 | 0.02505616 | 0.094176603 | 0.6846725 |\n",
       "| Bolivar |  944 |   28 |  922 |  3812 |  2085 | 2171558 |  7791 | 0.12116545 | 0.00359389 | 0.11834168 | 0.489282505 | 0.2676165 |\n",
       "| Boyaca |  517 |   95 | 1167 |  4084 |  2707 | 1281979 |  8570 | 0.06032672 | 0.01108518 | 0.13617270 | 0.476546091 | 0.3158693 |\n",
       "\n"
      ],
      "text/plain": [
       "            Delitos_Sexuales Homicidios Transito Asalto Intrafamiliar Poblacion\n",
       "Antioquia   2163              375       5079     11897   8205         6690977  \n",
       "Atlantico   1042               85       1928        59   3659         2546138  \n",
       "Bogota_D.C. 4211             1463        725      2725  19811         8181047  \n",
       "Bolivar      944               28        922      3812   2085         2171558  \n",
       "Boyaca       517               95       1167      4084   2707         1281979  \n",
       "            TotalDelitosDepto DelitosSexuales% Homicidios% Transito% \n",
       "Antioquia   27719             0.07803312       0.01352863  0.18323172\n",
       "Atlantico    6773             0.15384615       0.01254983  0.28465968\n",
       "Bogota_D.C. 28935             0.14553309       0.05056160  0.02505616\n",
       "Bolivar      7791             0.12116545       0.00359389  0.11834168\n",
       "Boyaca       8570             0.06032672       0.01108518  0.13617270\n",
       "            Asalto%     Intrafamiliar%\n",
       "Antioquia   0.429200188 0.2960063     \n",
       "Atlantico   0.008711059 0.5402333     \n",
       "Bogota_D.C. 0.094176603 0.6846725     \n",
       "Bolivar     0.489282505 0.2676165     \n",
       "Boyaca      0.476546091 0.3158693     "
      ]
     },
     "metadata": {},
     "output_type": "display_data"
    }
   ],
   "source": [
    "#Calcula la suma de delitos por Departamento\n",
    "df$TotalDelitosDepto = rowSums (df[ , 1:5])\n",
    "\n",
    "#head(df, n = 5)\n",
    "\n",
    "#Calcula el porcentaje de cada delito por Departamento\n",
    "df$'DelitosSexuales%' = df$Delitos_Sexuales/df$TotalDelitosDepto\n",
    "df$'Homicidios%' = df$Homicidios/df$TotalDelitosDepto\n",
    "df$'Transito%' = df$Transito/df$TotalDelitosDepto\n",
    "df$'Asalto%' = df$Asalto/df$TotalDelitosDepto\n",
    "df$'Intrafamiliar%' = df$Intrafamiliar/df$TotalDelitosDepto\n",
    "\n",
    "head(df, n = 5)"
   ]
  },
  {
   "cell_type": "code",
   "execution_count": 5,
   "metadata": {},
   "outputs": [],
   "source": [
    "#Calcula el porcentaje de cada delito por Departamento\n",
    "#df$'DelitosSexuales%' = df$Delitos_Sexuales/df$Poblacion\n",
    "#df$'Homicidios%' = df$Homicidios/df$Poblacion\n",
    "#df$'Transito%' = df$Transito/df$Poblacion\n",
    "#df$'Asalto%' = df$Asalto/df$Poblacion\n",
    "#df$'Intrafamiliar%' = df$Intrafamiliar/df$Poblacion\n",
    "\n",
    "#head(df, n = 5)\n",
    "\n",
    "#Genera dataframe solo con las columnas que se necesitan para realizar el analisis\n",
    "#df2 = df[ , 5:11]\n",
    "#df2 = df2[ , -1]\n",
    "#df2 = df2[ , -1]\n",
    "#head(df2, n=5)"
   ]
  },
  {
   "cell_type": "code",
   "execution_count": 6,
   "metadata": {},
   "outputs": [
    {
     "data": {
      "text/html": [
       "<table>\n",
       "<caption>A data.frame: 5 × 5</caption>\n",
       "<thead>\n",
       "\t<tr><th></th><th scope=col>DelitosSexuales%</th><th scope=col>Homicidios%</th><th scope=col>Transito%</th><th scope=col>Asalto%</th><th scope=col>Intrafamiliar%</th></tr>\n",
       "\t<tr><th></th><th scope=col>&lt;dbl&gt;</th><th scope=col>&lt;dbl&gt;</th><th scope=col>&lt;dbl&gt;</th><th scope=col>&lt;dbl&gt;</th><th scope=col>&lt;dbl&gt;</th></tr>\n",
       "</thead>\n",
       "<tbody>\n",
       "\t<tr><th scope=row>Antioquia</th><td>0.07803312</td><td>0.01352863</td><td>0.18323172</td><td>0.429200188</td><td>0.2960063</td></tr>\n",
       "\t<tr><th scope=row>Atlantico</th><td>0.15384615</td><td>0.01254983</td><td>0.28465968</td><td>0.008711059</td><td>0.5402333</td></tr>\n",
       "\t<tr><th scope=row>Bogota_D.C.</th><td>0.14553309</td><td>0.05056160</td><td>0.02505616</td><td>0.094176603</td><td>0.6846725</td></tr>\n",
       "\t<tr><th scope=row>Bolivar</th><td>0.12116545</td><td>0.00359389</td><td>0.11834168</td><td>0.489282505</td><td>0.2676165</td></tr>\n",
       "\t<tr><th scope=row>Boyaca</th><td>0.06032672</td><td>0.01108518</td><td>0.13617270</td><td>0.476546091</td><td>0.3158693</td></tr>\n",
       "</tbody>\n",
       "</table>\n"
      ],
      "text/latex": [
       "A data.frame: 5 × 5\n",
       "\\begin{tabular}{r|lllll}\n",
       "  & DelitosSexuales\\% & Homicidios\\% & Transito\\% & Asalto\\% & Intrafamiliar\\%\\\\\n",
       "  & <dbl> & <dbl> & <dbl> & <dbl> & <dbl>\\\\\n",
       "\\hline\n",
       "\tAntioquia & 0.07803312 & 0.01352863 & 0.18323172 & 0.429200188 & 0.2960063\\\\\n",
       "\tAtlantico & 0.15384615 & 0.01254983 & 0.28465968 & 0.008711059 & 0.5402333\\\\\n",
       "\tBogota\\_D.C. & 0.14553309 & 0.05056160 & 0.02505616 & 0.094176603 & 0.6846725\\\\\n",
       "\tBolivar & 0.12116545 & 0.00359389 & 0.11834168 & 0.489282505 & 0.2676165\\\\\n",
       "\tBoyaca & 0.06032672 & 0.01108518 & 0.13617270 & 0.476546091 & 0.3158693\\\\\n",
       "\\end{tabular}\n"
      ],
      "text/markdown": [
       "\n",
       "A data.frame: 5 × 5\n",
       "\n",
       "| <!--/--> | DelitosSexuales% &lt;dbl&gt; | Homicidios% &lt;dbl&gt; | Transito% &lt;dbl&gt; | Asalto% &lt;dbl&gt; | Intrafamiliar% &lt;dbl&gt; |\n",
       "|---|---|---|---|---|---|\n",
       "| Antioquia | 0.07803312 | 0.01352863 | 0.18323172 | 0.429200188 | 0.2960063 |\n",
       "| Atlantico | 0.15384615 | 0.01254983 | 0.28465968 | 0.008711059 | 0.5402333 |\n",
       "| Bogota_D.C. | 0.14553309 | 0.05056160 | 0.02505616 | 0.094176603 | 0.6846725 |\n",
       "| Bolivar | 0.12116545 | 0.00359389 | 0.11834168 | 0.489282505 | 0.2676165 |\n",
       "| Boyaca | 0.06032672 | 0.01108518 | 0.13617270 | 0.476546091 | 0.3158693 |\n",
       "\n"
      ],
      "text/plain": [
       "            DelitosSexuales% Homicidios% Transito%  Asalto%     Intrafamiliar%\n",
       "Antioquia   0.07803312       0.01352863  0.18323172 0.429200188 0.2960063     \n",
       "Atlantico   0.15384615       0.01254983  0.28465968 0.008711059 0.5402333     \n",
       "Bogota_D.C. 0.14553309       0.05056160  0.02505616 0.094176603 0.6846725     \n",
       "Bolivar     0.12116545       0.00359389  0.11834168 0.489282505 0.2676165     \n",
       "Boyaca      0.06032672       0.01108518  0.13617270 0.476546091 0.3158693     "
      ]
     },
     "metadata": {},
     "output_type": "display_data"
    }
   ],
   "source": [
    "#Genera dataframe solo con las columnas que se necesitan para realizar el analisis\n",
    "df2 = df[ , 6:12]\n",
    "df2 = df2[ , -1]\n",
    "df2 = df2[ , -1]\n",
    "head(df2, n=5)"
   ]
  },
  {
   "cell_type": "markdown",
   "metadata": {},
   "source": [
    "---\n",
    "\n",
    "### Presentar los valores propios y analizarlos.  ### "
   ]
  },
  {
   "cell_type": "code",
   "execution_count": 7,
   "metadata": {},
   "outputs": [
    {
     "data": {
      "text/plain": [
       "Importance of components:\n",
       "                          PC1    PC2    PC3    PC4       PC5\n",
       "Standard deviation     1.4708 1.1133 0.9992 0.7739 2.819e-16\n",
       "Proportion of Variance 0.4326 0.2479 0.1997 0.1198 0.000e+00\n",
       "Cumulative Proportion  0.4326 0.6805 0.8802 1.0000 1.000e+00"
      ]
     },
     "metadata": {},
     "output_type": "display_data"
    }
   ],
   "source": [
    "#Generar reporte de importancia de los componentes\n",
    "df2.pca = prcomp(df2, center = TRUE, scale. = TRUE)\n",
    "summary(df2.pca)"
   ]
  },
  {
   "cell_type": "code",
   "execution_count": 8,
   "metadata": {},
   "outputs": [
    {
     "name": "stdout",
     "output_type": "stream",
     "text": [
      "[1] \"Los valores propios del ACP son: \\n\"\n"
     ]
    },
    {
     "data": {
      "text/html": [
       "<style>\n",
       ".list-inline {list-style: none; margin:0; padding: 0}\n",
       ".list-inline>li {display: inline-block}\n",
       ".list-inline>li:not(:last-child)::after {content: \"\\00b7\"; padding: 0 .5ex}\n",
       "</style>\n",
       "<ol class=list-inline><li>2.16320484161169</li><li>1.23949149137776</li><li>0.998321450347353</li><li>0.598982216663195</li><li>7.94532150591807e-32</li></ol>\n"
      ],
      "text/latex": [
       "\\begin{enumerate*}\n",
       "\\item 2.16320484161169\n",
       "\\item 1.23949149137776\n",
       "\\item 0.998321450347353\n",
       "\\item 0.598982216663195\n",
       "\\item 7.94532150591807e-32\n",
       "\\end{enumerate*}\n"
      ],
      "text/markdown": [
       "1. 2.16320484161169\n",
       "2. 1.23949149137776\n",
       "3. 0.998321450347353\n",
       "4. 0.598982216663195\n",
       "5. 7.94532150591807e-32\n",
       "\n",
       "\n"
      ],
      "text/plain": [
       "[1] 2.163205e+00 1.239491e+00 9.983215e-01 5.989822e-01 7.945322e-32"
      ]
     },
     "metadata": {},
     "output_type": "display_data"
    }
   ],
   "source": [
    "#Generacion de los valores propios\n",
    "print('Los valores propios del ACP son: \\n')\n",
    "df2.pca$sdev^2"
   ]
  },
  {
   "cell_type": "markdown",
   "metadata": {},
   "source": [
    "**Los valores propios indican la varianza de los componentes principales, para el caso del ejercicio entre las 3 primeras componentes se explica el 88% de la variacion de los datos y si se tienen en cuenta las 4 primeras componentes se explica el 100%.**"
   ]
  },
  {
   "cell_type": "code",
   "execution_count": 9,
   "metadata": {},
   "outputs": [
    {
     "name": "stderr",
     "output_type": "stream",
     "text": [
      "Welcome! Want to learn more? See two factoextra-related books at https://goo.gl/ve3WBa\n",
      "\n"
     ]
    },
    {
     "data": {
      "image/png": "[encoded data removed]",
      "text/plain": [
       "plot without title"
      ]
     },
     "metadata": {
      "image/png": {
       "height": 420,
       "width": 420
      },
      "text/plain": {
       "height": 420,
       "width": 420
      }
     },
     "output_type": "display_data"
    }
   ],
   "source": [
    "#Aporte de cada componente\n",
    "#barplot(summary(df.pca)$importance[2,], main=\"Aporte de cada componente\", xlab=\"Componente\")\n",
    "library('factoextra')\n",
    "fviz_eig(df2.pca, addlabels = TRUE, main = \"Importancia de los componentes - Proporcion de la varianza\")"
   ]
  },
  {
   "cell_type": "code",
   "execution_count": 10,
   "metadata": {},
   "outputs": [
    {
     "data": {
      "image/png": "[encoded data removed]",
      "text/plain": [
       "plot without title"
      ]
     },
     "metadata": {
      "image/png": {
       "height": 420,
       "width": 420
      },
      "text/plain": {
       "height": 420,
       "width": 420
      }
     },
     "output_type": "display_data"
    }
   ],
   "source": [
    "# Varianza explicada acumulada \n",
    "prop_varianza <- df2.pca$sdev^2/sum(df2.pca$sdev^2)\n",
    "prop_varianza_acum <- cumsum(prop_varianza)\n",
    "ggplot(data = data.frame(prop_varianza_acum, pc = factor(1:ncol(df2))), aes(x = pc, y = prop_varianza_acum, group = 1)) +\n",
    "  geom_point() +\n",
    "  geom_line() +\n",
    "  geom_label(aes(label = round(prop_varianza_acum,2))) +\n",
    "  theme_bw() +\n",
    "  labs(x = \"Componentes principales\", y = \"Prop. varianza explicada acumulada\") + \n",
    "  ggtitle(\"Varianza explicada acumulada\")"
   ]
  },
  {
   "cell_type": "markdown",
   "metadata": {},
   "source": [
    "---\n",
    "\n",
    "### Presentar la ecuacion de los 2 primeros componentes. ###  "
   ]
  },
  {
   "cell_type": "code",
   "execution_count": 11,
   "metadata": {},
   "outputs": [
    {
     "data": {
      "text/html": [
       "<table>\n",
       "<caption>A matrix: 5 × 5 of type dbl</caption>\n",
       "<thead>\n",
       "\t<tr><th></th><th scope=col>PC1</th><th scope=col>PC2</th><th scope=col>PC3</th><th scope=col>PC4</th><th scope=col>PC5</th></tr>\n",
       "</thead>\n",
       "<tbody>\n",
       "\t<tr><th scope=row>DelitosSexuales%</th><td> 0.3300791</td><td>-0.59083723</td><td> 0.27547022</td><td> 0.65357980</td><td>-0.19725300</td></tr>\n",
       "\t<tr><th scope=row>Homicidios%</th><td> 0.3568988</td><td>-0.56237208</td><td> 0.07114757</td><td>-0.73931985</td><td>-0.06859351</td></tr>\n",
       "\t<tr><th scope=row>Transito%</th><td>-0.3548571</td><td>-0.34804196</td><td>-0.75917152</td><td> 0.05898418</td><td>-0.41608014</td></tr>\n",
       "\t<tr><th scope=row>Asalto%</th><td>-0.5519041</td><td>-0.01011897</td><td> 0.57288544</td><td>-0.14911283</td><td>-0.58725390</td></tr>\n",
       "\t<tr><th scope=row>Intrafamiliar%</th><td> 0.5771909</td><td> 0.46196690</td><td>-0.12047846</td><td>-0.02293120</td><td>-0.66211507</td></tr>\n",
       "</tbody>\n",
       "</table>\n"
      ],
      "text/latex": [
       "A matrix: 5 × 5 of type dbl\n",
       "\\begin{tabular}{r|lllll}\n",
       "  & PC1 & PC2 & PC3 & PC4 & PC5\\\\\n",
       "\\hline\n",
       "\tDelitosSexuales\\% &  0.3300791 & -0.59083723 &  0.27547022 &  0.65357980 & -0.19725300\\\\\n",
       "\tHomicidios\\% &  0.3568988 & -0.56237208 &  0.07114757 & -0.73931985 & -0.06859351\\\\\n",
       "\tTransito\\% & -0.3548571 & -0.34804196 & -0.75917152 &  0.05898418 & -0.41608014\\\\\n",
       "\tAsalto\\% & -0.5519041 & -0.01011897 &  0.57288544 & -0.14911283 & -0.58725390\\\\\n",
       "\tIntrafamiliar\\% &  0.5771909 &  0.46196690 & -0.12047846 & -0.02293120 & -0.66211507\\\\\n",
       "\\end{tabular}\n"
      ],
      "text/markdown": [
       "\n",
       "A matrix: 5 × 5 of type dbl\n",
       "\n",
       "| <!--/--> | PC1 | PC2 | PC3 | PC4 | PC5 |\n",
       "|---|---|---|---|---|---|\n",
       "| DelitosSexuales% |  0.3300791 | -0.59083723 |  0.27547022 |  0.65357980 | -0.19725300 |\n",
       "| Homicidios% |  0.3568988 | -0.56237208 |  0.07114757 | -0.73931985 | -0.06859351 |\n",
       "| Transito% | -0.3548571 | -0.34804196 | -0.75917152 |  0.05898418 | -0.41608014 |\n",
       "| Asalto% | -0.5519041 | -0.01011897 |  0.57288544 | -0.14911283 | -0.58725390 |\n",
       "| Intrafamiliar% |  0.5771909 |  0.46196690 | -0.12047846 | -0.02293120 | -0.66211507 |\n",
       "\n"
      ],
      "text/plain": [
       "                 PC1        PC2         PC3         PC4         PC5        \n",
       "DelitosSexuales%  0.3300791 -0.59083723  0.27547022  0.65357980 -0.19725300\n",
       "Homicidios%       0.3568988 -0.56237208  0.07114757 -0.73931985 -0.06859351\n",
       "Transito%        -0.3548571 -0.34804196 -0.75917152  0.05898418 -0.41608014\n",
       "Asalto%          -0.5519041 -0.01011897  0.57288544 -0.14911283 -0.58725390\n",
       "Intrafamiliar%    0.5771909  0.46196690 -0.12047846 -0.02293120 -0.66211507"
      ]
     },
     "metadata": {},
     "output_type": "display_data"
    }
   ],
   "source": [
    "#Matriz de Eigen\n",
    "df2.pca$rotation"
   ]
  },
  {
   "cell_type": "markdown",
   "metadata": {},
   "source": [
    "Al analizar la matriz de eigen, se evidencia que la primer componente esta conformada por la siguiente combinacion de las variables originales:\n",
    "\n",
    "\\begin{equation}\n",
    "PC1 = 0.330 DelitosSexuales\\% + 0.356 Homicidios\\% - 0.354 Transito\\% - 0.551 Asalto\\% + 0.577 Intrafamiliar\\%\n",
    "\\end{equation}\n",
    "  \n",
    "  \n",
    "Por otra parte la ecuacion de la segunda componente es:  \n",
    "  \n",
    "\\begin{equation}\n",
    "PC2 = - 0.590 DelitosSexuales\\% - 0.562 Homicidios\\% - 0.348 Transito\\% - 0.010 Asalto\\% + 0.461 Intrafamiliar\\%\n",
    "\\end{equation}\n",
    "\n",
    "---"
   ]
  },
  {
   "cell_type": "markdown",
   "metadata": {},
   "source": [
    "### Construir un indice con el primer componente y explicarlo  ###"
   ]
  },
  {
   "cell_type": "code",
   "execution_count": 12,
   "metadata": {},
   "outputs": [
    {
     "data": {
      "image/png": "[encoded data removed]",
      "text/plain": [
       "plot without title"
      ]
     },
     "metadata": {
      "image/png": {
       "height": 420,
       "width": 420
      },
      "text/plain": {
       "height": 420,
       "width": 420
      }
     },
     "output_type": "display_data"
    }
   ],
   "source": [
    "fviz_pca_var(df2.pca, axes = c(1,2), \n",
    "             col.var = \"contrib\", # Color por contribucion a la componente principal\n",
    "             gradient.cols = c(\"blue\", \"orange\", \"red\"),\n",
    "             repel = TRUE     # Evita la superposicion de texto\n",
    "             )"
   ]
  },
  {
   "cell_type": "code",
   "execution_count": 13,
   "metadata": {},
   "outputs": [
    {
     "data": {
      "text/html": [
       "<style>\n",
       ".dl-inline {width: auto; margin:0; padding: 0}\n",
       ".dl-inline>dt, .dl-inline>dd {float: none; width: auto; display: inline-block}\n",
       ".dl-inline>dt::after {content: \":\\0020\"; padding-right: .5ex}\n",
       ".dl-inline>dt:not(:first-of-type) {padding-left: .5ex}\n",
       "</style><dl class=dl-inline><dt>Antioquia</dt><dd>-0.237384842046413</dd><dt>Atlantico</dt><dd>2.91990804785888</dd><dt>Bogota_D.C.</dt><dd>5.13257566755046</dd><dt>Bolivar</dt><dd>-0.263821513958457</dd><dt>Boyaca</dt><dd>-0.381614263428928</dd><dt>Caldas</dt><dd>-0.969860683883192</dd><dt>Caqueta</dt><dd>0.716191402541924</dd><dt>Cauca</dt><dd>-0.364979445791776</dd><dt>Cesar</dt><dd>-0.54830270700498</dd><dt>Cordoba</dt><dd>-0.832250967933008</dd><dt>Cundinamarca</dt><dd>-1.98691780009897</dd><dt>Choco</dt><dd>0.027771979880982</dd><dt>Huila</dt><dd>-0.647123076170425</dd><dt>La_Guajira</dt><dd>0.248974604925442</dd><dt>Magdalena</dt><dd>-0.415856609320864</dd><dt>Meta</dt><dd>0.144699836734637</dd><dt>Nariño</dt><dd>-1.70943322455658</dd><dt>Norte_de_Santander</dt><dd>-0.526165903177433</dd><dt>Quindio</dt><dd>-0.797936810129117</dd><dt>Risaralda</dt><dd>-0.852261408131467</dd><dt>Santander</dt><dd>-2.20037387945602</dd><dt>Sucre</dt><dd>0.102080586512163</dd><dt>Tolima</dt><dd>-1.26072553973047</dd><dt>Valle_del_Cauca</dt><dd>-0.747383593293185</dd><dt>Arauca</dt><dd>1.22422471923318</dd><dt>Casanare</dt><dd>0.324532724715105</dd><dt>Putumayo</dt><dd>0.37657532706409</dd><dt>San_Andres</dt><dd>-1.39649336082541</dd><dt>Amazonas</dt><dd>0.682073469413409</dd><dt>Guainia</dt><dd>2.29700852106436</dd><dt>Guaviare</dt><dd>1.47812983350809</dd><dt>Vaupes</dt><dd>1.57114353872307</dd><dt>Vichada</dt><dd>-1.10700463078909</dd></dl>\n"
      ],
      "text/latex": [
       "\\begin{description*}\n",
       "\\item[Antioquia] -0.237384842046413\n",
       "\\item[Atlantico] 2.91990804785888\n",
       "\\item[Bogota\\textbackslash{}\\_D.C.] 5.13257566755046\n",
       "\\item[Bolivar] -0.263821513958457\n",
       "\\item[Boyaca] -0.381614263428928\n",
       "\\item[Caldas] -0.969860683883192\n",
       "\\item[Caqueta] 0.716191402541924\n",
       "\\item[Cauca] -0.364979445791776\n",
       "\\item[Cesar] -0.54830270700498\n",
       "\\item[Cordoba] -0.832250967933008\n",
       "\\item[Cundinamarca] -1.98691780009897\n",
       "\\item[Choco] 0.027771979880982\n",
       "\\item[Huila] -0.647123076170425\n",
       "\\item[La\\textbackslash{}\\_Guajira] 0.248974604925442\n",
       "\\item[Magdalena] -0.415856609320864\n",
       "\\item[Meta] 0.144699836734637\n",
       "\\item[Nariño] -1.70943322455658\n",
       "\\item[Norte\\textbackslash{}\\_de\\textbackslash{}\\_Santander] -0.526165903177433\n",
       "\\item[Quindio] -0.797936810129117\n",
       "\\item[Risaralda] -0.852261408131467\n",
       "\\item[Santander] -2.20037387945602\n",
       "\\item[Sucre] 0.102080586512163\n",
       "\\item[Tolima] -1.26072553973047\n",
       "\\item[Valle\\textbackslash{}\\_del\\textbackslash{}\\_Cauca] -0.747383593293185\n",
       "\\item[Arauca] 1.22422471923318\n",
       "\\item[Casanare] 0.324532724715105\n",
       "\\item[Putumayo] 0.37657532706409\n",
       "\\item[San\\textbackslash{}\\_Andres] -1.39649336082541\n",
       "\\item[Amazonas] 0.682073469413409\n",
       "\\item[Guainia] 2.29700852106436\n",
       "\\item[Guaviare] 1.47812983350809\n",
       "\\item[Vaupes] 1.57114353872307\n",
       "\\item[Vichada] -1.10700463078909\n",
       "\\end{description*}\n"
      ],
      "text/markdown": [
       "Antioquia\n",
       ":   -0.237384842046413Atlantico\n",
       ":   2.91990804785888Bogota_D.C.\n",
       ":   5.13257566755046Bolivar\n",
       ":   -0.263821513958457Boyaca\n",
       ":   -0.381614263428928Caldas\n",
       ":   -0.969860683883192Caqueta\n",
       ":   0.716191402541924Cauca\n",
       ":   -0.364979445791776Cesar\n",
       ":   -0.54830270700498Cordoba\n",
       ":   -0.832250967933008Cundinamarca\n",
       ":   -1.98691780009897Choco\n",
       ":   0.027771979880982Huila\n",
       ":   -0.647123076170425La_Guajira\n",
       ":   0.248974604925442Magdalena\n",
       ":   -0.415856609320864Meta\n",
       ":   0.144699836734637Nariño\n",
       ":   -1.70943322455658Norte_de_Santander\n",
       ":   -0.526165903177433Quindio\n",
       ":   -0.797936810129117Risaralda\n",
       ":   -0.852261408131467Santander\n",
       ":   -2.20037387945602Sucre\n",
       ":   0.102080586512163Tolima\n",
       ":   -1.26072553973047Valle_del_Cauca\n",
       ":   -0.747383593293185Arauca\n",
       ":   1.22422471923318Casanare\n",
       ":   0.324532724715105Putumayo\n",
       ":   0.37657532706409San_Andres\n",
       ":   -1.39649336082541Amazonas\n",
       ":   0.682073469413409Guainia\n",
       ":   2.29700852106436Guaviare\n",
       ":   1.47812983350809Vaupes\n",
       ":   1.57114353872307Vichada\n",
       ":   -1.10700463078909\n",
       "\n"
      ],
      "text/plain": [
       "         Antioquia          Atlantico        Bogota_D.C.            Bolivar \n",
       "       -0.23738484         2.91990805         5.13257567        -0.26382151 \n",
       "            Boyaca             Caldas            Caqueta              Cauca \n",
       "       -0.38161426        -0.96986068         0.71619140        -0.36497945 \n",
       "             Cesar            Cordoba       Cundinamarca              Choco \n",
       "       -0.54830271        -0.83225097        -1.98691780         0.02777198 \n",
       "             Huila         La_Guajira          Magdalena               Meta \n",
       "       -0.64712308         0.24897460        -0.41585661         0.14469984 \n",
       "            Nariño Norte_de_Santander            Quindio          Risaralda \n",
       "       -1.70943322        -0.52616590        -0.79793681        -0.85226141 \n",
       "         Santander              Sucre             Tolima    Valle_del_Cauca \n",
       "       -2.20037388         0.10208059        -1.26072554        -0.74738359 \n",
       "            Arauca           Casanare           Putumayo         San_Andres \n",
       "        1.22422472         0.32453272         0.37657533        -1.39649336 \n",
       "          Amazonas            Guainia           Guaviare             Vaupes \n",
       "        0.68207347         2.29700852         1.47812983         1.57114354 \n",
       "           Vichada \n",
       "       -1.10700463 "
      ]
     },
     "metadata": {},
     "output_type": "display_data"
    }
   ],
   "source": [
    "PC1 = df2.pca$x[,1]\n",
    "PC1"
   ]
  },
  {
   "cell_type": "code",
   "execution_count": 14,
   "metadata": {},
   "outputs": [
    {
     "data": {
      "text/html": [
       "<style>\n",
       ".dl-inline {width: auto; margin:0; padding: 0}\n",
       ".dl-inline>dt, .dl-inline>dd {float: none; width: auto; display: inline-block}\n",
       ".dl-inline>dt::after {content: \":\\0020\"; padding-right: .5ex}\n",
       ".dl-inline>dt:not(:first-of-type) {padding-left: .5ex}\n",
       "</style><dl class=dl-inline><dt>Antioquia</dt><dd>2.96298903740961</dd><dt>Atlantico</dt><dd>6.12028192731491</dd><dt>Bogota_D.C.</dt><dd>8.33294954700648</dd><dt>Bolivar</dt><dd>2.93655236549756</dd><dt>Boyaca</dt><dd>2.81875961602709</dd><dt>Caldas</dt><dd>2.23051319557283</dd><dt>Caqueta</dt><dd>3.91656528199794</dd><dt>Cauca</dt><dd>2.83539443366424</dd><dt>Cesar</dt><dd>2.65207117245104</dd><dt>Cordoba</dt><dd>2.36812291152301</dd><dt>Cundinamarca</dt><dd>1.21345607935705</dd><dt>Choco</dt><dd>3.228145859337</dd><dt>Huila</dt><dd>2.5532508032856</dd><dt>La_Guajira</dt><dd>3.44934848438146</dd><dt>Magdalena</dt><dd>2.78451727013516</dd><dt>Meta</dt><dd>3.34507371619066</dd><dt>Nariño</dt><dd>1.49094065489944</dd><dt>Norte_de_Santander</dt><dd>2.67420797627859</dd><dt>Quindio</dt><dd>2.4024370693269</dd><dt>Risaralda</dt><dd>2.34811247132455</dd><dt>Santander</dt><dd>1</dd><dt>Sucre</dt><dd>3.30245446596818</dd><dt>Tolima</dt><dd>1.93964833972555</dd><dt>Valle_del_Cauca</dt><dd>2.45299028616284</dd><dt>Arauca</dt><dd>4.4245985986892</dd><dt>Casanare</dt><dd>3.52490660417113</dd><dt>Putumayo</dt><dd>3.57694920652011</dd><dt>San_Andres</dt><dd>1.80388051863061</dd><dt>Amazonas</dt><dd>3.88244734886943</dd><dt>Guainia</dt><dd>5.49738240052038</dd><dt>Guaviare</dt><dd>4.67850371296411</dd><dt>Vaupes</dt><dd>4.77151741817909</dd><dt>Vichada</dt><dd>2.09336924866693</dd></dl>\n"
      ],
      "text/latex": [
       "\\begin{description*}\n",
       "\\item[Antioquia] 2.96298903740961\n",
       "\\item[Atlantico] 6.12028192731491\n",
       "\\item[Bogota\\textbackslash{}\\_D.C.] 8.33294954700648\n",
       "\\item[Bolivar] 2.93655236549756\n",
       "\\item[Boyaca] 2.81875961602709\n",
       "\\item[Caldas] 2.23051319557283\n",
       "\\item[Caqueta] 3.91656528199794\n",
       "\\item[Cauca] 2.83539443366424\n",
       "\\item[Cesar] 2.65207117245104\n",
       "\\item[Cordoba] 2.36812291152301\n",
       "\\item[Cundinamarca] 1.21345607935705\n",
       "\\item[Choco] 3.228145859337\n",
       "\\item[Huila] 2.5532508032856\n",
       "\\item[La\\textbackslash{}\\_Guajira] 3.44934848438146\n",
       "\\item[Magdalena] 2.78451727013516\n",
       "\\item[Meta] 3.34507371619066\n",
       "\\item[Nariño] 1.49094065489944\n",
       "\\item[Norte\\textbackslash{}\\_de\\textbackslash{}\\_Santander] 2.67420797627859\n",
       "\\item[Quindio] 2.4024370693269\n",
       "\\item[Risaralda] 2.34811247132455\n",
       "\\item[Santander] 1\n",
       "\\item[Sucre] 3.30245446596818\n",
       "\\item[Tolima] 1.93964833972555\n",
       "\\item[Valle\\textbackslash{}\\_del\\textbackslash{}\\_Cauca] 2.45299028616284\n",
       "\\item[Arauca] 4.4245985986892\n",
       "\\item[Casanare] 3.52490660417113\n",
       "\\item[Putumayo] 3.57694920652011\n",
       "\\item[San\\textbackslash{}\\_Andres] 1.80388051863061\n",
       "\\item[Amazonas] 3.88244734886943\n",
       "\\item[Guainia] 5.49738240052038\n",
       "\\item[Guaviare] 4.67850371296411\n",
       "\\item[Vaupes] 4.77151741817909\n",
       "\\item[Vichada] 2.09336924866693\n",
       "\\end{description*}\n"
      ],
      "text/markdown": [
       "Antioquia\n",
       ":   2.96298903740961Atlantico\n",
       ":   6.12028192731491Bogota_D.C.\n",
       ":   8.33294954700648Bolivar\n",
       ":   2.93655236549756Boyaca\n",
       ":   2.81875961602709Caldas\n",
       ":   2.23051319557283Caqueta\n",
       ":   3.91656528199794Cauca\n",
       ":   2.83539443366424Cesar\n",
       ":   2.65207117245104Cordoba\n",
       ":   2.36812291152301Cundinamarca\n",
       ":   1.21345607935705Choco\n",
       ":   3.228145859337Huila\n",
       ":   2.5532508032856La_Guajira\n",
       ":   3.44934848438146Magdalena\n",
       ":   2.78451727013516Meta\n",
       ":   3.34507371619066Nariño\n",
       ":   1.49094065489944Norte_de_Santander\n",
       ":   2.67420797627859Quindio\n",
       ":   2.4024370693269Risaralda\n",
       ":   2.34811247132455Santander\n",
       ":   1Sucre\n",
       ":   3.30245446596818Tolima\n",
       ":   1.93964833972555Valle_del_Cauca\n",
       ":   2.45299028616284Arauca\n",
       ":   4.4245985986892Casanare\n",
       ":   3.52490660417113Putumayo\n",
       ":   3.57694920652011San_Andres\n",
       ":   1.80388051863061Amazonas\n",
       ":   3.88244734886943Guainia\n",
       ":   5.49738240052038Guaviare\n",
       ":   4.67850371296411Vaupes\n",
       ":   4.77151741817909Vichada\n",
       ":   2.09336924866693\n",
       "\n"
      ],
      "text/plain": [
       "         Antioquia          Atlantico        Bogota_D.C.            Bolivar \n",
       "          2.962989           6.120282           8.332950           2.936552 \n",
       "            Boyaca             Caldas            Caqueta              Cauca \n",
       "          2.818760           2.230513           3.916565           2.835394 \n",
       "             Cesar            Cordoba       Cundinamarca              Choco \n",
       "          2.652071           2.368123           1.213456           3.228146 \n",
       "             Huila         La_Guajira          Magdalena               Meta \n",
       "          2.553251           3.449348           2.784517           3.345074 \n",
       "            Nariño Norte_de_Santander            Quindio          Risaralda \n",
       "          1.490941           2.674208           2.402437           2.348112 \n",
       "         Santander              Sucre             Tolima    Valle_del_Cauca \n",
       "          1.000000           3.302454           1.939648           2.452990 \n",
       "            Arauca           Casanare           Putumayo         San_Andres \n",
       "          4.424599           3.524907           3.576949           1.803881 \n",
       "          Amazonas            Guainia           Guaviare             Vaupes \n",
       "          3.882447           5.497382           4.678504           4.771517 \n",
       "           Vichada \n",
       "          2.093369 "
      ]
     },
     "metadata": {},
     "output_type": "display_data"
    }
   ],
   "source": [
    "PC1 = PC1-min(PC1)+1\n",
    "PC1"
   ]
  },
  {
   "cell_type": "code",
   "execution_count": 15,
   "metadata": {},
   "outputs": [
    {
     "data": {
      "image/png": "[encoded data removed]",
      "text/plain": [
       "plot without title"
      ]
     },
     "metadata": {
      "image/png": {
       "height": 420,
       "width": 420
      },
      "text/plain": {
       "height": 420,
       "width": 420
      }
     },
     "output_type": "display_data"
    }
   ],
   "source": [
    "#Suavizar\n",
    "library('MASS')\n",
    "x = boxcox(lm(PC1 ~ 1))\n",
    "posicion = which.max(x$y) #Devuelve la posicion del maximo valor de y\n",
    "valor = x$x[posicion] #Devuelve el valor de x para el maximo valor de y\n",
    "#valor\n",
    "abline(v = valor)"
   ]
  },
  {
   "cell_type": "code",
   "execution_count": 16,
   "metadata": {},
   "outputs": [
    {
     "data": {
      "image/png": "[encoded data removed]",
      "text/plain": [
       "Plot with title \"Histogram of acp1\""
      ]
     },
     "metadata": {
      "image/png": {
       "height": 420,
       "width": 420
      },
      "text/plain": {
       "height": 420,
       "width": 420
      }
     },
     "output_type": "display_data"
    }
   ],
   "source": [
    "#BOXCOX lambda 0.5\n",
    "acp1 = (PC1^valor-1)/(valor)\n",
    "hist(acp1)"
   ]
  },
  {
   "cell_type": "code",
   "execution_count": 17,
   "metadata": {},
   "outputs": [
    {
     "data": {
      "text/html": [
       "1"
      ],
      "text/latex": [
       "1"
      ],
      "text/markdown": [
       "1"
      ],
      "text/plain": [
       "[1] 1"
      ]
     },
     "metadata": {},
     "output_type": "display_data"
    }
   ],
   "source": [
    "a = min(PC1)\n",
    "a"
   ]
  },
  {
   "cell_type": "code",
   "execution_count": 18,
   "metadata": {},
   "outputs": [
    {
     "data": {
      "text/html": [
       "8.33294954700648"
      ],
      "text/latex": [
       "8.33294954700648"
      ],
      "text/markdown": [
       "8.33294954700648"
      ],
      "text/plain": [
       "[1] 8.33295"
      ]
     },
     "metadata": {},
     "output_type": "display_data"
    }
   ],
   "source": [
    "b = max(PC1)\n",
    "b"
   ]
  },
  {
   "cell_type": "code",
   "execution_count": 19,
   "metadata": {},
   "outputs": [
    {
     "data": {
      "text/html": [
       "13.6370773259749"
      ],
      "text/latex": [
       "13.6370773259749"
      ],
      "text/markdown": [
       "13.6370773259749"
      ],
      "text/plain": [
       "[1] 13.63708"
      ]
     },
     "metadata": {},
     "output_type": "display_data"
    }
   ],
   "source": [
    "m = 100/(b-a)\n",
    "m"
   ]
  },
  {
   "cell_type": "code",
   "execution_count": 20,
   "metadata": {},
   "outputs": [
    {
     "data": {
      "text/html": [
       "-13.6370773259749"
      ],
      "text/latex": [
       "-13.6370773259749"
      ],
      "text/markdown": [
       "-13.6370773259749"
      ],
      "text/plain": [
       "[1] -13.63708"
      ]
     },
     "metadata": {},
     "output_type": "display_data"
    }
   ],
   "source": [
    "n = -m*a\n",
    "n"
   ]
  },
  {
   "cell_type": "code",
   "execution_count": 21,
   "metadata": {},
   "outputs": [
    {
     "data": {
      "text/html": [
       "<table>\n",
       "<caption>A data.frame: 33 × 1</caption>\n",
       "<thead>\n",
       "\t<tr><th></th><th scope=col>Indice</th></tr>\n",
       "\t<tr><th></th><th scope=col>&lt;dbl&gt;</th></tr>\n",
       "</thead>\n",
       "<tbody>\n",
       "\t<tr><th scope=row>Antioquia</th><td> 26.769433</td></tr>\n",
       "\t<tr><th scope=row>Atlantico</th><td> 69.825681</td></tr>\n",
       "\t<tr><th scope=row>Bogota_D.C.</th><td>100.000000</td></tr>\n",
       "\t<tr><th scope=row>Bolivar</th><td> 26.408914</td></tr>\n",
       "\t<tr><th scope=row>Boyaca</th><td> 24.802566</td></tr>\n",
       "\t<tr><th scope=row>Caldas</th><td> 16.780604</td></tr>\n",
       "\t<tr><th scope=row>Caqueta</th><td> 39.773426</td></tr>\n",
       "\t<tr><th scope=row>Cauca</th><td> 25.029416</td></tr>\n",
       "\t<tr><th scope=row>Cesar</th><td> 22.529422</td></tr>\n",
       "\t<tr><th scope=row>Cordoba</th><td> 18.657198</td></tr>\n",
       "\t<tr><th scope=row>Cundinamarca</th><td>  2.910917</td></tr>\n",
       "\t<tr><th scope=row>Choco</th><td> 30.385397</td></tr>\n",
       "\t<tr><th scope=row>Huila</th><td> 21.181801</td></tr>\n",
       "\t<tr><th scope=row>La_Guajira</th><td> 33.401955</td></tr>\n",
       "\t<tr><th scope=row>Magdalena</th><td> 24.335600</td></tr>\n",
       "\t<tr><th scope=row>Meta</th><td> 31.979952</td></tr>\n",
       "\t<tr><th scope=row>Nariño</th><td>  6.694996</td></tr>\n",
       "\t<tr><th scope=row>Norte_de_Santander</th><td> 22.831304</td></tr>\n",
       "\t<tr><th scope=row>Quindio</th><td> 19.125143</td></tr>\n",
       "\t<tr><th scope=row>Risaralda</th><td> 18.384314</td></tr>\n",
       "\t<tr><th scope=row>Santander</th><td>  0.000000</td></tr>\n",
       "\t<tr><th scope=row>Sucre</th><td> 31.398750</td></tr>\n",
       "\t<tr><th scope=row>Tolima</th><td> 12.814057</td></tr>\n",
       "\t<tr><th scope=row>Valle_del_Cauca</th><td> 19.814541</td></tr>\n",
       "\t<tr><th scope=row>Arauca</th><td> 46.701516</td></tr>\n",
       "\t<tr><th scope=row>Casanare</th><td> 34.432347</td></tr>\n",
       "\t<tr><th scope=row>Putumayo</th><td> 35.142056</td></tr>\n",
       "\t<tr><th scope=row>San_Andres</th><td> 10.962581</td></tr>\n",
       "\t<tr><th scope=row>Amazonas</th><td> 39.308157</td></tr>\n",
       "\t<tr><th scope=row>Guainia</th><td> 61.331152</td></tr>\n",
       "\t<tr><th scope=row>Guaviare</th><td> 50.164040</td></tr>\n",
       "\t<tr><th scope=row>Vaupes</th><td> 51.432475</td></tr>\n",
       "\t<tr><th scope=row>Vichada</th><td> 14.910361</td></tr>\n",
       "</tbody>\n",
       "</table>\n"
      ],
      "text/latex": [
       "A data.frame: 33 × 1\n",
       "\\begin{tabular}{r|l}\n",
       "  & Indice\\\\\n",
       "  & <dbl>\\\\\n",
       "\\hline\n",
       "\tAntioquia &  26.769433\\\\\n",
       "\tAtlantico &  69.825681\\\\\n",
       "\tBogota\\_D.C. & 100.000000\\\\\n",
       "\tBolivar &  26.408914\\\\\n",
       "\tBoyaca &  24.802566\\\\\n",
       "\tCaldas &  16.780604\\\\\n",
       "\tCaqueta &  39.773426\\\\\n",
       "\tCauca &  25.029416\\\\\n",
       "\tCesar &  22.529422\\\\\n",
       "\tCordoba &  18.657198\\\\\n",
       "\tCundinamarca &   2.910917\\\\\n",
       "\tChoco &  30.385397\\\\\n",
       "\tHuila &  21.181801\\\\\n",
       "\tLa\\_Guajira &  33.401955\\\\\n",
       "\tMagdalena &  24.335600\\\\\n",
       "\tMeta &  31.979952\\\\\n",
       "\tNariño &   6.694996\\\\\n",
       "\tNorte\\_de\\_Santander &  22.831304\\\\\n",
       "\tQuindio &  19.125143\\\\\n",
       "\tRisaralda &  18.384314\\\\\n",
       "\tSantander &   0.000000\\\\\n",
       "\tSucre &  31.398750\\\\\n",
       "\tTolima &  12.814057\\\\\n",
       "\tValle\\_del\\_Cauca &  19.814541\\\\\n",
       "\tArauca &  46.701516\\\\\n",
       "\tCasanare &  34.432347\\\\\n",
       "\tPutumayo &  35.142056\\\\\n",
       "\tSan\\_Andres &  10.962581\\\\\n",
       "\tAmazonas &  39.308157\\\\\n",
       "\tGuainia &  61.331152\\\\\n",
       "\tGuaviare &  50.164040\\\\\n",
       "\tVaupes &  51.432475\\\\\n",
       "\tVichada &  14.910361\\\\\n",
       "\\end{tabular}\n"
      ],
      "text/markdown": [
       "\n",
       "A data.frame: 33 × 1\n",
       "\n",
       "| <!--/--> | Indice &lt;dbl&gt; |\n",
       "|---|---|\n",
       "| Antioquia |  26.769433 |\n",
       "| Atlantico |  69.825681 |\n",
       "| Bogota_D.C. | 100.000000 |\n",
       "| Bolivar |  26.408914 |\n",
       "| Boyaca |  24.802566 |\n",
       "| Caldas |  16.780604 |\n",
       "| Caqueta |  39.773426 |\n",
       "| Cauca |  25.029416 |\n",
       "| Cesar |  22.529422 |\n",
       "| Cordoba |  18.657198 |\n",
       "| Cundinamarca |   2.910917 |\n",
       "| Choco |  30.385397 |\n",
       "| Huila |  21.181801 |\n",
       "| La_Guajira |  33.401955 |\n",
       "| Magdalena |  24.335600 |\n",
       "| Meta |  31.979952 |\n",
       "| Nariño |   6.694996 |\n",
       "| Norte_de_Santander |  22.831304 |\n",
       "| Quindio |  19.125143 |\n",
       "| Risaralda |  18.384314 |\n",
       "| Santander |   0.000000 |\n",
       "| Sucre |  31.398750 |\n",
       "| Tolima |  12.814057 |\n",
       "| Valle_del_Cauca |  19.814541 |\n",
       "| Arauca |  46.701516 |\n",
       "| Casanare |  34.432347 |\n",
       "| Putumayo |  35.142056 |\n",
       "| San_Andres |  10.962581 |\n",
       "| Amazonas |  39.308157 |\n",
       "| Guainia |  61.331152 |\n",
       "| Guaviare |  50.164040 |\n",
       "| Vaupes |  51.432475 |\n",
       "| Vichada |  14.910361 |\n",
       "\n"
      ],
      "text/plain": [
       "                   Indice    \n",
       "Antioquia           26.769433\n",
       "Atlantico           69.825681\n",
       "Bogota_D.C.        100.000000\n",
       "Bolivar             26.408914\n",
       "Boyaca              24.802566\n",
       "Caldas              16.780604\n",
       "Caqueta             39.773426\n",
       "Cauca               25.029416\n",
       "Cesar               22.529422\n",
       "Cordoba             18.657198\n",
       "Cundinamarca         2.910917\n",
       "Choco               30.385397\n",
       "Huila               21.181801\n",
       "La_Guajira          33.401955\n",
       "Magdalena           24.335600\n",
       "Meta                31.979952\n",
       "Nariño               6.694996\n",
       "Norte_de_Santander  22.831304\n",
       "Quindio             19.125143\n",
       "Risaralda           18.384314\n",
       "Santander            0.000000\n",
       "Sucre               31.398750\n",
       "Tolima              12.814057\n",
       "Valle_del_Cauca     19.814541\n",
       "Arauca              46.701516\n",
       "Casanare            34.432347\n",
       "Putumayo            35.142056\n",
       "San_Andres          10.962581\n",
       "Amazonas            39.308157\n",
       "Guainia             61.331152\n",
       "Guaviare            50.164040\n",
       "Vaupes              51.432475\n",
       "Vichada             14.910361"
      ]
     },
     "metadata": {},
     "output_type": "display_data"
    }
   ],
   "source": [
    "Indice = data.frame(Indice=m*PC1+n, Depto = df[0])\n",
    "Indice"
   ]
  },
  {
   "cell_type": "markdown",
   "metadata": {},
   "source": [
    "De acuerdo al indice calculado, se puede concluir que Santander y Bogota representan los dos extremos opuestos de la primer componente, donde Bogota es quien mas casos de violencia intrafamiliar, homicidios y delitos sexuales y Santander presenta muy pocos proporcionalmente a la poblacion.\n",
    "\n",
    "---"
   ]
  },
  {
   "cell_type": "markdown",
   "metadata": {},
   "source": [
    "### Presentar el grafico factorial 1 y 2 y explicarlo. ###  "
   ]
  },
  {
   "cell_type": "code",
   "execution_count": 22,
   "metadata": {},
   "outputs": [
    {
     "data": {
      "image/png": "[encoded data removed]",
      "text/plain": [
       "plot without title"
      ]
     },
     "metadata": {
      "image/png": {
       "height": 420,
       "width": 420
      },
      "text/plain": {
       "height": 420,
       "width": 420
      }
     },
     "output_type": "display_data"
    }
   ],
   "source": [
    "fviz_pca_biplot(df2.pca, repel = TRUE,\n",
    "                col.var = \"red\", # Color de las variables\n",
    "                col.ind = \"black\"  # Color de los individuos\n",
    "                )"
   ]
  },
  {
   "cell_type": "markdown",
   "metadata": {},
   "source": [
    "En consonancia a lo indicado en el numeral anterior se evidencia que Santander presenta un alto numero de casos de Asalto y Transito, mientras que Bogota presenta alto numero de casos de de violencia intrafamiliar, homicidios y delitos sexuales proporcionalmente respecto a la poblacion. Se identifica a Vaupes como un dato atipico.\n",
    "\n",
    "---"
   ]
  }
 ],
 "metadata": {
  "kernelspec": {
   "display_name": "R",
   "language": "R",
   "name": "ir"
  },
  "language_info": {
   "codemirror_mode": "r",
   "file_extension": ".r",
   "mimetype": "text/x-r-source",
   "name": "R",
   "pygments_lexer": "r",
   "version": "3.6.2"
  },
  "latex_envs": {
   "LaTeX_envs_menu_present": true,
   "autoclose": false,
   "autocomplete": true,
   "bibliofile": "biblio.bib",
   "cite_by": "apalike",
   "current_citInitial": 1,
   "eqLabelWithNumbers": true,
   "eqNumInitial": 1,
   "hotkeys": {
    "equation": "Ctrl-E",
    "itemize": "Ctrl-I"
   },
   "labels_anchors": false,
   "latex_user_defs": false,
   "report_style_numbering": false,
   "user_envs_cfg": false
  },
  "toc": {
   "base_numbering": 1,
   "nav_menu": {},
   "number_sections": true,
   "sideBar": true,
   "skip_h1_title": false,
   "title_cell": "Table of Contents",
   "title_sidebar": "Contents",
   "toc_cell": false,
   "toc_position": {},
   "toc_section_display": true,
   "toc_window_display": false
  }
 },
 "nbformat": 4,
 "nbformat_minor": 4
}
